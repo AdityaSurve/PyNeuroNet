{
 "cells": [
  {
   "cell_type": "code",
   "execution_count": 1,
   "metadata": {},
   "outputs": [],
   "source": [
    "import speech_recognition\n",
    "import pyttsx3"
   ]
  },
  {
   "cell_type": "code",
   "execution_count": 3,
   "metadata": {},
   "outputs": [
    {
     "name": "stdout",
     "output_type": "stream",
     "text": [
      "Silence\n",
      "Speak Now\n",
      "the means of samples of sizes and 1000 which are 7.5 and regarded as i am from the same population of tablet is 2.5 inches\n"
     ]
    }
   ],
   "source": [
    "sr = speech_recognition.Recognizer()\n",
    "with speech_recognition.Microphone() as source:\n",
    "    print(\"Silence\")\n",
    "    sr.adjust_for_ambient_noise(source,duration=2)\n",
    "    print(\"Speak Now\")\n",
    "    audio = sr.listen(source)\n",
    "    text = sr.recognize_google(audio)\n",
    "    text = text.lower()\n",
    "    print(text)"
   ]
  },
  {
   "cell_type": "code",
   "execution_count": 11,
   "metadata": {},
   "outputs": [],
   "source": [
    "def speakText(command):\n",
    "    voice = pyttsx3.init()\n",
    "    voice.say(command)\n",
    "    voice.runAndWait()\n",
    "\n",
    "speakText(text)"
   ]
  },
  {
   "attachments": {},
   "cell_type": "markdown",
   "metadata": {},
   "source": [
    "SPEECH TO WEB"
   ]
  },
  {
   "cell_type": "code",
   "execution_count": 12,
   "metadata": {},
   "outputs": [],
   "source": [
    "import speech_recognition\n",
    "import pyttsx3\n",
    "import webbrowser"
   ]
  },
  {
   "cell_type": "code",
   "execution_count": 13,
   "metadata": {},
   "outputs": [
    {
     "name": "stdout",
     "output_type": "stream",
     "text": [
      "Say the website name...\n",
      "Hearing... \n",
      "You asked to open : youtube.com\n"
     ]
    }
   ],
   "source": [
    "if __name__ == \"__main__\":\n",
    "    path = \"C:/Program Files (x86)/Microsoft/Edge/Application/msedge.exe %s\"\n",
    "    sr  = speech_recognition.Recognizer()\n",
    "    with speech_recognition.Microphone() as source:\n",
    "        sr.adjust_for_ambient_noise(source)\n",
    "        print(\"Say the website name...\")\n",
    "        audio = sr.listen(source)\n",
    "        print(\"Hearing... \")\n",
    "        try:\n",
    "            destination = sr.recognize_google(audio)\n",
    "            print(\"You asked to open : \" + destination)\n",
    "            webbrowser.get(path).open(destination)\n",
    "        except Exception as e:\n",
    "            print(\"error : \" + str(e))"
   ]
  }
 ],
 "metadata": {
  "kernelspec": {
   "display_name": "Python 3",
   "language": "python",
   "name": "python3"
  },
  "language_info": {
   "codemirror_mode": {
    "name": "ipython",
    "version": 3
   },
   "file_extension": ".py",
   "mimetype": "text/x-python",
   "name": "python",
   "nbconvert_exporter": "python",
   "pygments_lexer": "ipython3",
   "version": "3.10.9"
  },
  "orig_nbformat": 4
 },
 "nbformat": 4,
 "nbformat_minor": 2
}
